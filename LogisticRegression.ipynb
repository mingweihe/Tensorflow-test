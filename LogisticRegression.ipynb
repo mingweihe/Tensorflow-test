{
 "cells": [
  {
   "cell_type": "code",
   "execution_count": 2,
   "metadata": {},
   "outputs": [
    {
     "name": "stderr",
     "output_type": "stream",
     "text": [
      "/anaconda3/lib/python3.6/site-packages/h5py/__init__.py:36: FutureWarning: Conversion of the second argument of issubdtype from `float` to `np.floating` is deprecated. In future, it will be treated as `np.float64 == np.dtype(float).type`.\n",
      "  from ._conv import register_converters as _register_converters\n"
     ]
    }
   ],
   "source": [
    "import tensorflow as tf"
   ]
  },
  {
   "cell_type": "code",
   "execution_count": 3,
   "metadata": {},
   "outputs": [],
   "source": [
    "# Input values\n",
    "N = 40\n",
    "x = tf.lin_space(0., 5., N)\n",
    "y = tf.constant([0., 0., 0., 0., 0., 0., 0., 0., 0., 0.,\n",
    "1., 0., 0., 1., 0., 0., 0., 1., 0., 0.,\n",
    "1., 0., 1., 1., 1., 1., 1., 1., 1., 1.,\n",
    "1., 1., 1., 1., 1., 1., 1., 1., 1., 1.])"
   ]
  },
  {
   "cell_type": "code",
   "execution_count": 4,
   "metadata": {},
   "outputs": [],
   "source": [
    "# Variables\n",
    "m = tf.Variable(0.)\n",
    "b = tf.Variable(0.)"
   ]
  },
  {
   "cell_type": "code",
   "execution_count": 5,
   "metadata": {},
   "outputs": [],
   "source": [
    "# Compute model and loss\n",
    "model = tf.nn.sigmoid(tf.add(tf.multiply(x, m), b))\n",
    "loss = -1. * tf.reduce_sum(y * tf.log(model) + (1. - y) * (1. - tf.log(model)))"
   ]
  },
  {
   "cell_type": "code",
   "execution_count": 6,
   "metadata": {},
   "outputs": [],
   "source": [
    "# Create optimizer\n",
    "learn_rate = 0.005\n",
    "num_epochs = 350\n",
    "optimizer = tf.train.GradientDescentOptimizer(learn_rate).minimize(loss)"
   ]
  },
  {
   "cell_type": "code",
   "execution_count": 20,
   "metadata": {
    "scrolled": true
   },
   "outputs": [
    {
     "name": "stdout",
     "output_type": "stream",
     "text": [
      "m = 4.0140586\n",
      "b = -13.645958\n",
      "[0.         0.12820514 0.25641027 0.38461542 0.51282054 0.64102566\n",
      " 0.76923084 0.89743596 1.0256411  1.1538463  1.2820513  1.4102565\n",
      " 1.5384617  1.6666667  1.7948719  1.923077   2.0512822  2.1794872\n",
      " 2.3076925  2.4358976  2.5641026  2.692308   2.820513   2.948718\n",
      " 3.0769234  3.2051284  3.3333335  3.4615386  3.5897439  3.717949\n",
      " 3.846154   3.9743593  4.1025643  4.2307696  4.3589745  4.4871798\n",
      " 4.615385   4.74359    4.871795   5.0000005 ]\n",
      "[0. 0. 0. 0. 0. 0. 0. 0. 0. 0. 1. 0. 0. 1. 0. 0. 0. 1. 0. 0. 1. 0. 1. 1.\n",
      " 1. 1. 1. 1. 1. 1. 1. 1. 1. 1. 1. 1. 1. 1. 1. 1.]\n"
     ]
    }
   ],
   "source": [
    "# Initialize variables\n",
    "init = tf.global_variables_initializer()\n",
    "# Launch session\n",
    "with tf.Session() as sess:\n",
    "    sess.run(init)\n",
    "    # Run optimizer\n",
    "    for epoch in range(num_epochs):\n",
    "        sess.run(optimizer)\n",
    "    # Display results\n",
    "    print('m =', sess.run(m))\n",
    "    print('b =', sess.run(b))\n",
    "    print(sess.run(x))\n",
    "    print(sess.run(y))"
   ]
  },
  {
   "cell_type": "code",
   "execution_count": null,
   "metadata": {},
   "outputs": [],
   "source": []
  },
  {
   "cell_type": "code",
   "execution_count": null,
   "metadata": {},
   "outputs": [],
   "source": []
  }
 ],
 "metadata": {
  "kernelspec": {
   "display_name": "Python 3",
   "language": "python",
   "name": "python3"
  },
  "language_info": {
   "codemirror_mode": {
    "name": "ipython",
    "version": 3
   },
   "file_extension": ".py",
   "mimetype": "text/x-python",
   "name": "python",
   "nbconvert_exporter": "python",
   "pygments_lexer": "ipython3",
   "version": "3.6.4"
  }
 },
 "nbformat": 4,
 "nbformat_minor": 2
}
