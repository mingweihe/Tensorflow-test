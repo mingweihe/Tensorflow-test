{
 "cells": [
  {
   "cell_type": "code",
   "execution_count": 3,
   "metadata": {},
   "outputs": [
    {
     "name": "stderr",
     "output_type": "stream",
     "text": [
      "/anaconda3/lib/python3.6/site-packages/h5py/__init__.py:36: FutureWarning: Conversion of the second argument of issubdtype from `float` to `np.floating` is deprecated. In future, it will be treated as `np.float64 == np.dtype(float).type`.\n",
      "  from ._conv import register_converters as _register_converters\n"
     ]
    }
   ],
   "source": [
    "import tensorflow as tf"
   ]
  },
  {
   "cell_type": "code",
   "execution_count": 4,
   "metadata": {},
   "outputs": [],
   "source": [
    "# Custom session hook\n",
    "class CustomHook(tf.train.SessionRunHook):\n",
    "    def begin(self):\n",
    "        print('Beginning the session!')\n",
    "    def before_run(self, run_context):\n",
    "        return tf.train.SessionRunArgs(loss)\n",
    "    def after_run(self, run_context, run_values):\n",
    "        if run_context.original_args != 'init':\n",
    "            print('Loss: ', run_values.results)\n",
    "    def end(self, session):\n",
    "        print('The session is about to end!')"
   ]
  },
  {
   "cell_type": "code",
   "execution_count": 5,
   "metadata": {},
   "outputs": [],
   "source": [
    "# Define a trainable variable\n",
    "x_var = tf.Variable(0., name='x_result')\n",
    "# Define an untrainable variable to hold the global step\n",
    "step_var = tf.train.create_global_step()\n",
    "# Express loss in terms of the variable\n",
    "loss = x_var * x_var - 4.0 * x_var + 5.0\n",
    "# Find variable value that minimizes loss\n",
    "learn_rate = 0.1\n",
    "num_epochs = 40\n",
    "optimizer = tf.train.GradientDescentOptimizer(learn_rate).minimize(loss,\n",
    "global_step=step_var)\n",
    "# Initialize variables\n",
    "init = tf.global_variables_initializer()\n",
    "# Create summary operation\n",
    "summary_op = tf.summary.scalar('x', x_var)"
   ]
  },
  {
   "cell_type": "code",
   "execution_count": 10,
   "metadata": {},
   "outputs": [
    {
     "name": "stdout",
     "output_type": "stream",
     "text": [
      "INFO:tensorflow:Create CheckpointSaverHook.\n"
     ]
    }
   ],
   "source": [
    "# Create hooks\n",
    "custom_hook = CustomHook()\n",
    "checkpoint_hook = tf.train.CheckpointSaverHook(checkpoint_dir='ckpt_dir',\n",
    "checkpoint_basename='output', save_steps=10)\n",
    "summary_hook = tf.train.SummarySaverHook(save_steps=10, output_dir='log',\n",
    "summary_op=summary_op)\n",
    "hooks = [custom_hook, checkpoint_hook, summary_hook]"
   ]
  },
  {
   "cell_type": "code",
   "execution_count": 12,
   "metadata": {},
   "outputs": [
    {
     "name": "stdout",
     "output_type": "stream",
     "text": [
      "Beginning the session!\n",
      "INFO:tensorflow:Graph was finalized.\n",
      "INFO:tensorflow:Running local_init_op.\n",
      "INFO:tensorflow:Done running local_init_op.\n",
      "Loss:  5.0\n",
      "INFO:tensorflow:Saving checkpoints for 0 into ckpt_dir/output.\n",
      "Loss:  5.0\n",
      "Loss:  3.9184\n",
      "Loss:  2.6383998\n",
      "Loss:  2.0485759\n",
      "Loss:  1.6710885\n",
      "Loss:  1.4294968\n",
      "Loss:  1.2748778\n",
      "Loss:  1.1759219\n",
      "Loss:  1.1125901\n",
      "Loss:  1.0720577\n",
      "INFO:tensorflow:Saving checkpoints for 10 into ckpt_dir/output.\n",
      "Loss:  1.0461168\n",
      "Loss:  1.0295148\n",
      "Loss:  1.0188894\n",
      "Loss:  1.0120893\n",
      "Loss:  1.0077372\n",
      "Loss:  1.0049517\n",
      "Loss:  1.0031691\n",
      "Loss:  1.0020282\n",
      "Loss:  1.0012982\n",
      "Loss:  1.0008309\n",
      "INFO:tensorflow:Saving checkpoints for 20 into ckpt_dir/output.\n",
      "Loss:  1.0005317\n",
      "Loss:  0.98558235\n",
      "Loss:  1.0002177\n",
      "Loss:  1.0001395\n",
      "Loss:  1.0000892\n",
      "Loss:  1.000057\n",
      "Loss:  1.0000365\n",
      "Loss:  1.0000234\n",
      "Loss:  1.000015\n",
      "Loss:  1.0000095\n",
      "INFO:tensorflow:Saving checkpoints for 30 into ckpt_dir/output.\n",
      "Loss:  1.0000062\n",
      "Loss:  1.0000038\n",
      "Loss:  1.0000026\n",
      "Loss:  1.0000017\n",
      "Loss:  1.000001\n",
      "Loss:  1.0000007\n",
      "Loss:  1.0000005\n",
      "Loss:  1.0000002\n",
      "Loss:  1.0000002\n",
      "Loss:  1.0\n",
      "INFO:tensorflow:Saving checkpoints for 40 into ckpt_dir/output.\n",
      "The session is about to end!\n"
     ]
    }
   ],
   "source": [
    "# Launch session\n",
    "with tf.train.MonitoredSession(hooks=hooks) as sess:\n",
    "    sess.run(init)\n",
    "    for epoch in range(num_epochs):\n",
    "        sess.run(optimizer)"
   ]
  },
  {
   "cell_type": "code",
   "execution_count": null,
   "metadata": {},
   "outputs": [],
   "source": []
  }
 ],
 "metadata": {
  "kernelspec": {
   "display_name": "Python 3",
   "language": "python",
   "name": "python3"
  },
  "language_info": {
   "codemirror_mode": {
    "name": "ipython",
    "version": 3
   },
   "file_extension": ".py",
   "mimetype": "text/x-python",
   "name": "python",
   "nbconvert_exporter": "python",
   "pygments_lexer": "ipython3",
   "version": "3.6.4"
  }
 },
 "nbformat": 4,
 "nbformat_minor": 2
}
