{
 "cells": [
  {
   "cell_type": "code",
   "execution_count": 1,
   "metadata": {},
   "outputs": [
    {
     "name": "stderr",
     "output_type": "stream",
     "text": [
      "/anaconda3/lib/python3.6/site-packages/h5py/__init__.py:36: FutureWarning: Conversion of the second argument of issubdtype from `float` to `np.floating` is deprecated. In future, it will be treated as `np.float64 == np.dtype(float).type`.\n",
      "  from ._conv import register_converters as _register_converters\n"
     ]
    }
   ],
   "source": [
    "import tensorflow as tf"
   ]
  },
  {
   "cell_type": "code",
   "execution_count": 2,
   "metadata": {},
   "outputs": [],
   "source": [
    "# Random input values\n",
    "N = 40\n",
    "x = tf.random_normal([N])\n",
    "a_real = tf.truncated_normal([N], mean=3.)\n",
    "b_real = tf.truncated_normal([N], mean=-2.)\n",
    "c_real = tf.truncated_normal([N], mean=-1.)\n",
    "d_real = tf.truncated_normal([N], mean=1.)\n",
    "y = a_real * tf.pow(x, 3) + b_real * tf.pow(x, 2) + c_real * x + d_real"
   ]
  },
  {
   "cell_type": "code",
   "execution_count": 3,
   "metadata": {},
   "outputs": [],
   "source": [
    "# Variables\n",
    "a = tf.Variable(tf.random_normal([]))\n",
    "b = tf.Variable(tf.random_normal([]))\n",
    "c = tf.Variable(tf.random_normal([]))\n",
    "d = tf.Variable(tf.random_normal([]))\n",
    "# Compute model and loss\n",
    "model = a * tf.pow(x, 3) + b * tf.pow(x, 2) + c * x + d\n",
    "loss = tf.reduce_mean(tf.pow(model - y, 2))"
   ]
  },
  {
   "cell_type": "code",
   "execution_count": 5,
   "metadata": {},
   "outputs": [],
   "source": [
    "import numpy as np"
   ]
  },
  {
   "cell_type": "code",
   "execution_count": 9,
   "metadata": {},
   "outputs": [
    {
     "data": {
      "text/plain": [
       "TensorShape([Dimension(40)])"
      ]
     },
     "execution_count": 9,
     "metadata": {},
     "output_type": "execute_result"
    }
   ],
   "source": [
    "np.shape(a_real)"
   ]
  },
  {
   "cell_type": "code",
   "execution_count": 7,
   "metadata": {},
   "outputs": [
    {
     "name": "stdout",
     "output_type": "stream",
     "text": [
      "[-0.20341225  0.17290823  0.16965257 -0.05032969 -1.0253118  -0.05706092\n",
      " -1.523082   -0.12459105 -0.6435044  -0.7637364   0.2088516  -0.4579761\n",
      " -0.7280547   1.5007161   0.8708937  -0.6819485  -0.7857988   1.2733518\n",
      " -0.90994424 -0.2519769  -2.1161926   0.24369787 -0.13441184 -0.64208126\n",
      "  0.8711156  -0.1614519  -1.4400022   0.07366858  0.18603258  2.683169\n",
      " -0.9147864  -0.5974313   1.0225662   0.3015031   1.7050407  -0.59998345\n",
      " -0.0310945   2.1064067   1.24499     1.1914614 ]\n"
     ]
    }
   ],
   "source": [
    "with tf.Session() as sess:\n",
    "    print(sess.run(x))"
   ]
  },
  {
   "cell_type": "code",
   "execution_count": 15,
   "metadata": {},
   "outputs": [],
   "source": [
    "# Create optimizer\n",
    "learn_rate = 0.01\n",
    "num_epochs = 400\n",
    "num_batches = N\n",
    "optimizer = tf.train.GradientDescentOptimizer(learn_rate).minimize(loss)\n",
    "# Initialize variables\n",
    "init = tf.global_variables_initializer()"
   ]
  },
  {
   "cell_type": "code",
   "execution_count": 18,
   "metadata": {},
   "outputs": [
    {
     "name": "stdout",
     "output_type": "stream",
     "text": [
      "a =  2.883479\n",
      "b =  -2.048669\n",
      "c =  -1.0746872\n",
      "d =  0.9693804\n"
     ]
    }
   ],
   "source": [
    "# Launch session\n",
    "with tf.Session() as sess:\n",
    "    sess.run(init)\n",
    "    # Perform training\n",
    "    for epoch in range(num_epochs):\n",
    "        for batch in range(num_batches):\n",
    "            sess.run(optimizer)\n",
    "            # Display results\n",
    "    print('a = ', sess.run(a))\n",
    "    print('b = ', sess.run(b))\n",
    "    print('c = ', sess.run(c))\n",
    "    print('d = ', sess.run(d))"
   ]
  },
  {
   "cell_type": "code",
   "execution_count": null,
   "metadata": {},
   "outputs": [],
   "source": []
  }
 ],
 "metadata": {
  "kernelspec": {
   "display_name": "Python 3",
   "language": "python",
   "name": "python3"
  },
  "language_info": {
   "codemirror_mode": {
    "name": "ipython",
    "version": 3
   },
   "file_extension": ".py",
   "mimetype": "text/x-python",
   "name": "python",
   "nbconvert_exporter": "python",
   "pygments_lexer": "ipython3",
   "version": "3.6.4"
  }
 },
 "nbformat": 4,
 "nbformat_minor": 2
}
