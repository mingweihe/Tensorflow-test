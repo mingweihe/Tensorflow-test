{
 "cells": [
  {
   "cell_type": "code",
   "execution_count": 54,
   "metadata": {
    "scrolled": true
   },
   "outputs": [],
   "source": [
    "import numpy as np\n",
    "import cv2\n",
    "from PIL import ImageGrab\n",
    "import matplotlib.pyplot as plt\n",
    "import tensorflow as tf"
   ]
  },
  {
   "cell_type": "code",
   "execution_count": 2,
   "metadata": {},
   "outputs": [],
   "source": [
    "learning_rate = 0.01\n",
    "num_epochs = 1\n",
    "batch_size = 2\n",
    "num_batches = 10\n",
    "num_classes = 2"
   ]
  },
  {
   "cell_type": "code",
   "execution_count": 3,
   "metadata": {},
   "outputs": [],
   "source": [
    "def plotImg(imgs):\n",
    "    fig = plt.figure()\n",
    "    for i in range(len(imgs)):\n",
    "        fig.add_subplot(1, len(imgs), i + 1)\n",
    "        plt.imshow(imgs[i])\n",
    "        plt.axis('off')"
   ]
  },
  {
   "cell_type": "code",
   "execution_count": 4,
   "metadata": {},
   "outputs": [
    {
     "name": "stdout",
     "output_type": "stream",
     "text": [
      "(40, 50, 4) (40, 50, 4) (40, 50) (40, 50)\n"
     ]
    },
    {
     "data": {
      "image/png": "[encoded data removed]",
      "text/plain": [
       "<matplotlib.figure.Figure at 0x1828cc4eb8>"
      ]
     },
     "metadata": {},
     "output_type": "display_data"
    }
   ],
   "source": [
    "p1 = ImageGrab.grab(bbox=(30,0,80,40))\n",
    "p2 = ImageGrab.grab(bbox=(30,50,80,90))\n",
    "p3 = cv2.cvtColor(np.array(p1), cv2.COLOR_RGBA2GRAY)\n",
    "p4 = cv2.cvtColor(np.array(p2), cv2.COLOR_RGBA2GRAY)\n",
    "print(np.shape(p1), np.shape(p2), np.shape(p3), np.shape(p4))\n",
    "plotImg([p1, p2, p3, p4])"
   ]
  },
  {
   "cell_type": "code",
   "execution_count": 5,
   "metadata": {},
   "outputs": [],
   "source": [
    "# initialize dataset\n",
    "p1, p2 = p3.reshape(-1,), p4.reshape(-1,)\n",
    "class pair():\n",
    "    a = b = None\n",
    "class data():\n",
    "    index = 0\n",
    "    entry = pair()\n",
    "    def next_batch(self, batch_size):\n",
    "        i = 0\n",
    "        res1 = []\n",
    "        res2 = []\n",
    "        while(i < batch_size):\n",
    "            cur = (self.index + i) % len(self.entry.a)\n",
    "            res1.append(self.entry.a[cur])\n",
    "            res2.append(self.entry.b[cur])\n",
    "            i += 1\n",
    "        self.index = (self.index + batch_size) % len(self.entry.a)\n",
    "        return res1, res2\n",
    "class dataset():\n",
    "    train = data()\n",
    "    test = data()\n",
    "    validation = data()\n",
    "dataset.train.entry.a = [p1, p2]\n",
    "dataset.train.entry.b = [0, 1]"
   ]
  },
  {
   "cell_type": "code",
   "execution_count": 6,
   "metadata": {},
   "outputs": [],
   "source": [
    "# Placeholders for MNIST images\n",
    "image_holder = tf.placeholder(tf.float32, [None, 2000])\n",
    "label_holder = tf.placeholder(tf.float32, [None, 2])"
   ]
  },
  {
   "cell_type": "code",
   "execution_count": 7,
   "metadata": {},
   "outputs": [],
   "source": [
    "# Variables\n",
    "m = tf.Variable(tf.zeros([2000, num_classes]))\n",
    "b = tf.Variable(tf.zeros([num_classes]))"
   ]
  },
  {
   "cell_type": "code",
   "execution_count": 8,
   "metadata": {},
   "outputs": [
    {
     "name": "stdout",
     "output_type": "stream",
     "text": [
      "WARNING:tensorflow:From <ipython-input-8-9e148f84a99f>:3: softmax_cross_entropy_with_logits (from tensorflow.python.ops.nn_ops) is deprecated and will be removed in a future version.\n",
      "Instructions for updating:\n",
      "\n",
      "Future major versions of TensorFlow will allow gradients to flow\n",
      "into the labels input on backprop by default.\n",
      "\n",
      "See @{tf.nn.softmax_cross_entropy_with_logits_v2}.\n",
      "\n"
     ]
    }
   ],
   "source": [
    "# Compute loss\n",
    "logits=tf.matmul(image_holder, m) + b\n",
    "cross_entropy = tf.nn.softmax_cross_entropy_with_logits(logits = logits, labels = label_holder)\n",
    "loss = tf.reduce_mean(cross_entropy)"
   ]
  },
  {
   "cell_type": "code",
   "execution_count": 9,
   "metadata": {},
   "outputs": [],
   "source": [
    "# Compute accuracy\n",
    "prediction = tf.matmul(image_holder, m) + b\n",
    "predictions = tf.argmax(prediction, 1)\n",
    "correct_pred = tf.equal(predictions, tf.argmax(label_holder, 1))\n",
    "accuracy = tf.reduce_mean(tf.cast(correct_pred, tf.float32))"
   ]
  },
  {
   "cell_type": "code",
   "execution_count": 10,
   "metadata": {},
   "outputs": [],
   "source": [
    "# Create optimizer\n",
    "optimizer = tf.train.GradientDescentOptimizer(learning_rate).minimize(loss)"
   ]
  },
  {
   "cell_type": "code",
   "execution_count": 11,
   "metadata": {},
   "outputs": [],
   "source": [
    "# Initialize variables\n",
    "init = tf.global_variables_initializer()\n",
    "# Launch session\n",
    "sess = tf.Session()\n",
    "sess.run(init)"
   ]
  },
  {
   "cell_type": "code",
   "execution_count": 12,
   "metadata": {},
   "outputs": [
    {
     "name": "stdout",
     "output_type": "stream",
     "text": [
      "loss:  0.6931472 accuracy:  0.5\n",
      "loss:  0.0 accuracy:  1.0\n",
      "loss:  0.0 accuracy:  1.0\n",
      "loss:  0.0 accuracy:  1.0\n",
      "loss:  0.0 accuracy:  1.0\n",
      "loss:  0.0 accuracy:  1.0\n",
      "loss:  0.0 accuracy:  1.0\n",
      "loss:  0.0 accuracy:  1.0\n",
      "loss:  0.0 accuracy:  1.0\n",
      "loss:  0.0 accuracy:  1.0\n"
     ]
    }
   ],
   "source": [
    "# Loop over epochs\n",
    "for epoch in range(num_epochs):\n",
    "    # Loop over batches\n",
    "    for batch in range(num_batches):\n",
    "        image_batch, label_batch = dataset.train.next_batch(batch_size)\n",
    "        _, lossVal, accu = sess.run([optimizer, loss, accuracy], \\\n",
    "        feed_dict={image_holder: image_batch, label_holder: \\\n",
    "        [np.eye(2)[label_batch[i]] for i in range(batch_size)]})\n",
    "        # Display the final loss\n",
    "        print('loss: ', lossVal, 'accuracy: ', accu)"
   ]
  },
  {
   "cell_type": "code",
   "execution_count": 33,
   "metadata": {},
   "outputs": [
    {
     "data": {
      "image/png": "[encoded data removed]",
      "text/plain": [
       "<matplotlib.figure.Figure at 0x182a1d5048>"
      ]
     },
     "metadata": {},
     "output_type": "display_data"
    }
   ],
   "source": [
    "a = np.reshape(sess.run(m)[:,0], [40, -1])\n",
    "b = np.reshape(sess.run(m)[:,1], [40, -1])\n",
    "plotImg([a,b])"
   ]
  },
  {
   "cell_type": "code",
   "execution_count": 52,
   "metadata": {},
   "outputs": [],
   "source": [
    "def test(n):\n",
    "    res = []\n",
    "    space = 5 # distance of picking a new picture\n",
    "    for i in range(n):\n",
    "        p = ImageGrab.grab(bbox=(30,i*space,80,40 + i * space))\n",
    "        p = cv2.cvtColor(np.array(p), cv2.COLOR_RGBA2GRAY)\n",
    "        res.append(p)\n",
    "    plotImg(res)\n",
    "    res = np.reshape(res, [n, -1, ])\n",
    "    evaluate = sess.run(prediction, feed_dict = {image_holder: res})\n",
    "    print(evaluate)\n",
    "    print(np.argmax(evaluate, 1))"
   ]
  },
  {
   "cell_type": "code",
   "execution_count": 53,
   "metadata": {},
   "outputs": [
    {
     "name": "stdout",
     "output_type": "stream",
     "text": [
      "[[ 19639.63   -19639.63  ]\n",
      " [  9785.139   -9785.139 ]\n",
      " [  1895.2593  -1895.2593]\n",
      " [ -3386.4219   3386.4219]\n",
      " [ -9947.582    9947.582 ]\n",
      " [-11142.633   11142.633 ]\n",
      " [-10891.588   10891.588 ]\n",
      " [-13389.125   13389.125 ]\n",
      " [-15165.464   15165.464 ]\n",
      " [-17231.148   17231.148 ]]\n",
      "[0 0 0 1 1 1 1 1 1 1]\n"
     ]
    },
    {
     "data": {
      "image/png": "[encoded data removed]",
      "text/plain": [
       "<matplotlib.figure.Figure at 0x182aa94eb8>"
      ]
     },
     "metadata": {},
     "output_type": "display_data"
    }
   ],
   "source": [
    "test(10)"
   ]
  },
  {
   "cell_type": "code",
   "execution_count": 44,
   "metadata": {},
   "outputs": [
    {
     "name": "stdout",
     "output_type": "stream",
     "text": [
      "[[ 19639.643 -19639.643]\n",
      " [-17940.797  17940.797]]\n"
     ]
    },
    {
     "data": {
      "image/png": "[encoded data removed]",
      "text/plain": [
       "<matplotlib.figure.Figure at 0x182a23d278>"
      ]
     },
     "metadata": {},
     "output_type": "display_data"
    }
   ],
   "source": [
    "p1 = ImageGrab.grab(bbox=(30,0,80,40))\n",
    "p2 = ImageGrab.grab(bbox=(30,50,80,90))\n",
    "p1 = cv2.cvtColor(np.array(p1), cv2.COLOR_RGBA2GRAY)\n",
    "p2 = cv2.cvtColor(np.array(p2), cv2.COLOR_RGBA2GRAY)\n",
    "plotImg([p1, p2])\n",
    "p1 = p1.reshape(-1,)\n",
    "p2 = p2.reshape(-1,)\n",
    "print(sess.run(prediction, feed_dict = {image_holder: [p1, p2]}))"
   ]
  },
  {
   "cell_type": "code",
   "execution_count": null,
   "metadata": {},
   "outputs": [],
   "source": []
  },
  {
   "cell_type": "code",
   "execution_count": null,
   "metadata": {},
   "outputs": [],
   "source": []
  }
 ],
 "metadata": {
  "kernelspec": {
   "display_name": "Python 3",
   "language": "python",
   "name": "python3"
  },
  "language_info": {
   "codemirror_mode": {
    "name": "ipython",
    "version": 3
   },
   "file_extension": ".py",
   "mimetype": "text/x-python",
   "name": "python",
   "nbconvert_exporter": "python",
   "pygments_lexer": "ipython3",
   "version": "3.6.4"
  }
 },
 "nbformat": 4,
 "nbformat_minor": 2
}
