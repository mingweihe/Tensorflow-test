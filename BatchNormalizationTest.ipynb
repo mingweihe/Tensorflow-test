{
 "cells": [
  {
   "cell_type": "code",
   "execution_count": 19,
   "metadata": {},
   "outputs": [],
   "source": [
    "import tensorflow as tf\n",
    "import numpy as np"
   ]
  },
  {
   "cell_type": "code",
   "execution_count": 49,
   "metadata": {
    "scrolled": true
   },
   "outputs": [
    {
     "name": "stdout",
     "output_type": "stream",
     "text": [
      "[ 0.49996537  0.5001039   0.49996537  0.49996537 -2.        ]\n",
      "1.0\n",
      "0.0\n"
     ]
    }
   ],
   "source": [
    "epsilon = tf.Variable(tf.keras.backend.epsilon(), dtype=tf.float32)\n",
    "z1_BN = tf.Variable([1,555,1,1,-10000000], dtype=tf.float32)\n",
    "mean1, var1 = tf.nn.moments(z1_BN, [0])\n",
    "BN1 = (z1_BN - mean1) / tf.sqrt(var1 + epsilon)\n",
    "sess = tf.Session()\n",
    "sess.run(tf.global_variables_initializer())\n",
    "normalization = sess.run(BN1)\n",
    "print(normalization)\n",
    "print(np.var(normalization))\n",
    "print(np.mean(normalization))\n"
   ]
  },
  {
   "cell_type": "code",
   "execution_count": null,
   "metadata": {},
   "outputs": [],
   "source": []
  }
 ],
 "metadata": {
  "kernelspec": {
   "display_name": "Python 3",
   "language": "python",
   "name": "python3"
  },
  "language_info": {
   "codemirror_mode": {
    "name": "ipython",
    "version": 3
   },
   "file_extension": ".py",
   "mimetype": "text/x-python",
   "name": "python",
   "nbconvert_exporter": "python",
   "pygments_lexer": "ipython3",
   "version": "3.6.4"
  }
 },
 "nbformat": 4,
 "nbformat_minor": 2
}
