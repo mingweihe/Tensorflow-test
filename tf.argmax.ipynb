{
 "cells": [
  {
   "cell_type": "code",
   "execution_count": 1,
   "metadata": {},
   "outputs": [
    {
     "name": "stderr",
     "output_type": "stream",
     "text": [
      "/anaconda3/lib/python3.6/site-packages/h5py/__init__.py:36: FutureWarning: Conversion of the second argument of issubdtype from `float` to `np.floating` is deprecated. In future, it will be treated as `np.float64 == np.dtype(float).type`.\n",
      "  from ._conv import register_converters as _register_converters\n"
     ]
    }
   ],
   "source": [
    "import tensorflow as tf\n",
    "import numpy as np\n",
    "import os"
   ]
  },
  {
   "cell_type": "code",
   "execution_count": 2,
   "metadata": {},
   "outputs": [],
   "source": [
    "values = [10, 0, 30, 40, 50, 60, 3, 1, 2]"
   ]
  },
  {
   "cell_type": "code",
   "execution_count": 3,
   "metadata": {},
   "outputs": [],
   "source": [
    "min = tf.argmin(values, 0)"
   ]
  },
  {
   "cell_type": "code",
   "execution_count": 4,
   "metadata": {},
   "outputs": [],
   "source": [
    "max = tf.argmax(values, 0)"
   ]
  },
  {
   "cell_type": "code",
   "execution_count": 5,
   "metadata": {},
   "outputs": [],
   "source": [
    "session = tf.Session()"
   ]
  },
  {
   "cell_type": "code",
   "execution_count": 6,
   "metadata": {},
   "outputs": [
    {
     "name": "stdout",
     "output_type": "stream",
     "text": [
      "1\n",
      "5\n"
     ]
    }
   ],
   "source": [
    "print(session.run(min))\n",
    "print(session.run(max))"
   ]
  },
  {
   "cell_type": "code",
   "execution_count": 7,
   "metadata": {},
   "outputs": [
    {
     "name": "stdout",
     "output_type": "stream",
     "text": [
      "[2. 4. 5.]\n"
     ]
    }
   ],
   "source": [
    "ph = tf.placeholder(tf.float32)\n",
    "res = tf.add(ph, 1)\n",
    "with tf.Session() as sess:\n",
    "    print(sess.run(res, {ph: [1,3,4]}))"
   ]
  },
  {
   "cell_type": "code",
   "execution_count": 8,
   "metadata": {},
   "outputs": [],
   "source": [
    "# Define a trainable variable\n",
    "x_var = tf.Variable(0., name='x_result')\n",
    "# Define an untrainable variable to hold the global step\n",
    "step_var = tf.Variable(0, trainable=True)\n",
    "# Express loss in terms of the variable\n",
    "loss = 2*x_var"
   ]
  },
  {
   "cell_type": "code",
   "execution_count": 9,
   "metadata": {},
   "outputs": [],
   "source": [
    "# Find variable value that minimizes loss\n",
    "learn_rate = 0.1\n",
    "num_epochs = 100\n",
    "optimizer = tf.train.GradientDescentOptimizer(learn_rate).minimize(loss,\n",
    "global_step=step_var)\n",
    "# Initialize variables\n",
    "init = tf.global_variables_initializer()\n",
    "# Create the saver\n",
    "saver = tf.train.Saver()"
   ]
  },
  {
   "cell_type": "code",
   "execution_count": 10,
   "metadata": {},
   "outputs": [],
   "source": [
    "# Create summary data and FileWriter\n",
    "summary_op = tf.summary.scalar('x', x_var)\n",
    "file_writer = tf.summary.FileWriter('log', graph=tf.get_default_graph())"
   ]
  },
  {
   "cell_type": "code",
   "execution_count": 11,
   "metadata": {
    "scrolled": false
   },
   "outputs": [
    {
     "name": "stdout",
     "output_type": "stream",
     "text": [
      "0.0\n",
      "-0.2\n",
      "Step 1: Computed result = -0.200000\n",
      "-0.4\n",
      "Step 2: Computed result = -0.400000\n",
      "-0.6\n",
      "Step 3: Computed result = -0.600000\n",
      "-0.8\n",
      "Step 4: Computed result = -0.800000\n",
      "-1.0\n",
      "Step 5: Computed result = -1.000000\n",
      "-1.2\n",
      "Step 6: Computed result = -1.200000\n",
      "-1.4000001\n",
      "Step 7: Computed result = -1.400000\n",
      "-1.6000001\n",
      "Step 8: Computed result = -1.600000\n",
      "-1.8000002\n",
      "Step 9: Computed result = -1.800000\n",
      "-2.0000002\n",
      "Step 10: Computed result = -2.000000\n",
      "-2.2000003\n",
      "Step 11: Computed result = -2.200000\n",
      "-2.4000003\n",
      "Step 12: Computed result = -2.400000\n",
      "-2.6000004\n",
      "Step 13: Computed result = -2.600000\n",
      "-2.8000004\n",
      "Step 14: Computed result = -2.800000\n",
      "-3.0000005\n",
      "Step 15: Computed result = -3.000000\n",
      "-3.2000005\n",
      "Step 16: Computed result = -3.200001\n",
      "-3.4000006\n",
      "Step 17: Computed result = -3.400001\n",
      "-3.6000006\n",
      "Step 18: Computed result = -3.600001\n",
      "-3.8000007\n",
      "Step 19: Computed result = -3.800001\n",
      "-4.0000005\n",
      "Step 20: Computed result = -4.000000\n",
      "-4.2000003\n",
      "Step 21: Computed result = -4.200000\n",
      "-4.4\n",
      "Step 22: Computed result = -4.400000\n",
      "-4.6\n",
      "Step 23: Computed result = -4.600000\n",
      "-4.7999997\n",
      "Step 24: Computed result = -4.800000\n",
      "-4.9999995\n",
      "Step 25: Computed result = -5.000000\n",
      "-5.1999993\n",
      "Step 26: Computed result = -5.199999\n",
      "-5.399999\n",
      "Step 27: Computed result = -5.399999\n",
      "-5.599999\n",
      "Step 28: Computed result = -5.599999\n",
      "-5.7999988\n",
      "Step 29: Computed result = -5.799999\n",
      "-5.9999986\n",
      "Step 30: Computed result = -5.999999\n",
      "-6.1999984\n",
      "Step 31: Computed result = -6.199998\n",
      "-6.399998\n",
      "Step 32: Computed result = -6.399998\n",
      "-6.599998\n",
      "Step 33: Computed result = -6.599998\n",
      "-6.799998\n",
      "Step 34: Computed result = -6.799998\n",
      "-6.9999976\n",
      "Step 35: Computed result = -6.999998\n",
      "-7.1999974\n",
      "Step 36: Computed result = -7.199997\n",
      "-7.399997\n",
      "Step 37: Computed result = -7.399997\n",
      "-7.599997\n",
      "Step 38: Computed result = -7.599997\n",
      "-7.799997\n",
      "Step 39: Computed result = -7.799997\n",
      "-7.9999967\n",
      "Step 40: Computed result = -7.999997\n",
      "-8.199997\n",
      "Step 41: Computed result = -8.199997\n",
      "-8.399997\n",
      "Step 42: Computed result = -8.399997\n",
      "-8.599997\n",
      "Step 43: Computed result = -8.599997\n",
      "-8.799996\n",
      "Step 44: Computed result = -8.799996\n",
      "-8.999996\n",
      "Step 45: Computed result = -8.999996\n",
      "-9.199996\n",
      "Step 46: Computed result = -9.199996\n",
      "-9.399996\n",
      "Step 47: Computed result = -9.399996\n",
      "-9.599996\n",
      "Step 48: Computed result = -9.599996\n",
      "-9.799995\n",
      "Step 49: Computed result = -9.799995\n",
      "-9.999995\n",
      "Step 50: Computed result = -9.999995\n",
      "-10.199995\n",
      "Step 51: Computed result = -10.199995\n",
      "-10.399995\n",
      "Step 52: Computed result = -10.399995\n",
      "-10.599995\n",
      "Step 53: Computed result = -10.599995\n",
      "-10.799994\n",
      "Step 54: Computed result = -10.799994\n",
      "-10.999994\n",
      "Step 55: Computed result = -10.999994\n",
      "-11.199994\n",
      "Step 56: Computed result = -11.199994\n",
      "-11.399994\n",
      "Step 57: Computed result = -11.399994\n",
      "-11.599994\n",
      "Step 58: Computed result = -11.599994\n",
      "-11.7999935\n",
      "Step 59: Computed result = -11.799994\n",
      "-11.999993\n",
      "Step 60: Computed result = -11.999993\n",
      "-12.199993\n",
      "Step 61: Computed result = -12.199993\n",
      "-12.399993\n",
      "Step 62: Computed result = -12.399993\n",
      "-12.599993\n",
      "Step 63: Computed result = -12.599993\n",
      "-12.799993\n",
      "Step 64: Computed result = -12.799993\n",
      "-12.999992\n",
      "Step 65: Computed result = -12.999992\n",
      "-13.199992\n",
      "Step 66: Computed result = -13.199992\n",
      "-13.399992\n",
      "Step 67: Computed result = -13.399992\n",
      "-13.599992\n",
      "Step 68: Computed result = -13.599992\n",
      "-13.799992\n",
      "Step 69: Computed result = -13.799992\n",
      "-13.999991\n",
      "Step 70: Computed result = -13.999991\n",
      "-14.199991\n",
      "Step 71: Computed result = -14.199991\n",
      "-14.399991\n",
      "Step 72: Computed result = -14.399991\n",
      "-14.599991\n",
      "Step 73: Computed result = -14.599991\n",
      "-14.799991\n",
      "Step 74: Computed result = -14.799991\n",
      "-14.99999\n",
      "Step 75: Computed result = -14.999990\n",
      "-15.19999\n",
      "Step 76: Computed result = -15.199990\n",
      "-15.39999\n",
      "Step 77: Computed result = -15.399990\n",
      "-15.59999\n",
      "Step 78: Computed result = -15.599990\n",
      "-15.79999\n",
      "Step 79: Computed result = -15.799990\n",
      "-15.9999895\n",
      "Step 80: Computed result = -15.999990\n",
      "-16.19999\n",
      "Step 81: Computed result = -16.199989\n",
      "-16.39999\n",
      "Step 82: Computed result = -16.399990\n",
      "-16.59999\n",
      "Step 83: Computed result = -16.599991\n",
      "-16.799992\n",
      "Step 84: Computed result = -16.799992\n",
      "-16.999992\n",
      "Step 85: Computed result = -16.999992\n",
      "-17.199993\n",
      "Step 86: Computed result = -17.199993\n",
      "-17.399994\n",
      "Step 87: Computed result = -17.399994\n",
      "-17.599995\n",
      "Step 88: Computed result = -17.599995\n",
      "-17.799995\n",
      "Step 89: Computed result = -17.799995\n",
      "-17.999996\n",
      "Step 90: Computed result = -17.999996\n",
      "-18.199997\n",
      "Step 91: Computed result = -18.199997\n",
      "-18.399998\n",
      "Step 92: Computed result = -18.399998\n",
      "-18.599998\n",
      "Step 93: Computed result = -18.599998\n",
      "-18.8\n",
      "Step 94: Computed result = -18.799999\n",
      "-19.0\n",
      "Step 95: Computed result = -19.000000\n",
      "-19.2\n",
      "Step 96: Computed result = -19.200001\n",
      "-19.400002\n",
      "Step 97: Computed result = -19.400002\n",
      "-19.600002\n",
      "Step 98: Computed result = -19.600002\n",
      "-19.800003\n",
      "Step 99: Computed result = -19.800003\n",
      "-20.000004\n",
      "Step 100: Computed result = -20.000004\n",
      "Final x_var: -20.000004\n"
     ]
    }
   ],
   "source": [
    "# Launch session\n",
    "with tf.Session() as sess:\n",
    "    sess.run(init)\n",
    "    print(sess.run(x_var))\n",
    "    for epoch in range(num_epochs):\n",
    "        _, step, result, summary = sess.run([optimizer, step_var, x_var,\n",
    "        summary_op])\n",
    "        print(sess.run(x_var))\n",
    "        print('Step %d: Computed result = %f' % (step, result))\n",
    "        # Print summary data\n",
    "        file_writer.add_summary(summary, global_step=step)\n",
    "        file_writer.flush()\n",
    "    # Store variable data\n",
    "    saver.save(sess, os.getcwd() + '/output')\n",
    "    print('Final x_var: %f' % sess.run(x_var))"
   ]
  },
  {
   "cell_type": "code",
   "execution_count": null,
   "metadata": {},
   "outputs": [],
   "source": []
  },
  {
   "cell_type": "code",
   "execution_count": null,
   "metadata": {},
   "outputs": [],
   "source": []
  },
  {
   "cell_type": "code",
   "execution_count": null,
   "metadata": {},
   "outputs": [],
   "source": []
  }
 ],
 "metadata": {
  "kernelspec": {
   "display_name": "Python 3",
   "language": "python",
   "name": "python3"
  },
  "language_info": {
   "codemirror_mode": {
    "name": "ipython",
    "version": 3
   },
   "file_extension": ".py",
   "mimetype": "text/x-python",
   "name": "python",
   "nbconvert_exporter": "python",
   "pygments_lexer": "ipython3",
   "version": "3.6.4"
  }
 },
 "nbformat": 4,
 "nbformat_minor": 2
}
